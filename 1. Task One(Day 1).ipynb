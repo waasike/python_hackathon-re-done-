{
 "cells": [
  {
   "cell_type": "markdown",
   "metadata": {},
   "source": [
    "# BUS FARE CHALLENGE - Task One (Day 1)"
   ]
  },
  {
   "cell_type": "markdown",
   "metadata": {},
   "source": [
    "Write a program that does the following:\n",
    "\n",
    "1. Gets today's date and stores it in a variable 'date'\n",
    "2. Uses today's date to get the name on the day of the week written in short form with the first letter capitalized eg. 'Fri' if today were Friday and assigns it a variable 'day'\n",
    "3. Uses if statements to determine the today's fare following these bus fare schedule: Monday - Friday --> 100 Saturday --> 60 Sunday --> 80\n",
    "4. Prints the results in this format Date: 2022-07-05 Day: Tue Fare: 100"
   ]
  },
  {
   "cell_type": "code",
   "execution_count": 1,
   "metadata": {},
   "outputs": [],
   "source": [
    "# importing the current(exact)date and time\n",
    "import datetime"
   ]
  },
  {
   "cell_type": "code",
   "execution_count": null,
   "metadata": {},
   "outputs": [],
   "source": [
    "# creating the variables \n",
    "date = datetime.datetime.now() # create a variable 'date' asign it the current date/time\n",
    "day = date.strftime(\"%A\")[0:3] # create a variable 'day' asign it the current date & use indexing to get short form of date\n",
    "weekdays = [\"Mon\", \"Tue\", \"Wed\", \"Thu\", \"Fri\"] # create a variable 'weekdays' and asign it days of the week\n",
    "fare = fare"
   ]
  },
  {
   "cell_type": "code",
   "execution_count": 7,
   "metadata": {},
   "outputs": [
    {
     "name": "stdout",
     "output_type": "stream",
     "text": [
      "Date : 2022-07-29 10:58:47.512350\n",
      "Day: Fri\n",
      "Fare: 100\n"
     ]
    }
   ],
   "source": [
    "print(\"Date :\", date)\n",
    "print(\"Day:\", day )\n",
    "\n",
    "# creating if statments\n",
    "if day in weekdays:\n",
    "    print(\"Fare:\", 100)\n",
    "elif day == \"Sat\":\n",
    "    print(\"Fare:\", 60)\n",
    "elif day == \"Sun\":\n",
    "    print(\"Fare:\", 80)"
   ]
  }
 ],
 "metadata": {
  "kernelspec": {
   "display_name": "Python 3",
   "language": "python",
   "name": "python3"
  },
  "language_info": {
   "codemirror_mode": {
    "name": "ipython",
    "version": 3
   },
   "file_extension": ".py",
   "mimetype": "text/x-python",
   "name": "python",
   "nbconvert_exporter": "python",
   "pygments_lexer": "ipython3",
   "version": "3.7.3"
  }
 },
 "nbformat": 4,
 "nbformat_minor": 2
}
