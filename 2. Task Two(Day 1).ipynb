{
 "cells": [
  {
   "cell_type": "markdown",
   "metadata": {},
   "source": [
    "#  SALES TAX CHALLENGE - Task Two (Day 1)\n"
   ]
  },
  {
   "cell_type": "markdown",
   "metadata": {},
   "source": [
    "A painting company has determined that for every 115 square feet of wall space, one gallon of paint and eight hours of labor will be required. The company charges $20.00 per hour for labor. Write a program that asks the user to enter the square feet of wall space to be painted and the price of the paint per gallon. The program should display the following data:\n",
    "\n",
    "•The number of gallons of paint required\n",
    "•The hours of labor required\n",
    "•The cost of the paint\n",
    "•The labor charges\n",
    "•The total cost of the paint job\n"
   ]
  },
  {
   "cell_type": "code",
   "execution_count": 3,
   "metadata": {},
   "outputs": [
    {
     "name": "stdout",
     "output_type": "stream",
     "text": [
      "Enter the number of square feet to be painted12\n",
      "Enter the price of the paint per gallon44\n",
      "The total estimated price for the paint job is $ 21.28695652173913\n"
     ]
    }
   ],
   "source": [
    "def main():\n",
    "    square_footage = int(input(\"Enter the number of square feet to be painted\"))\n",
    "    price_gallon = int(input(\"Enter the price of the paint per gallon\"))\n",
    "\n",
    "    num_gallons = square_footage / 115\n",
    "    hours_of_labor = num_gallons * 8\n",
    "    total_price_of_paint = num_gallons * price_gallon\n",
    "    total_labor_charges = hours_of_labor * 20\n",
    "    total_cost_of_job = total_price_of_paint + total_labor_charges\n",
    "    print('The total estimated price for the paint job is $', total_cost_of_job)\n",
    "    \n",
    "main()"
   ]
  }
 ],
 "metadata": {
  "kernelspec": {
   "display_name": "Python 3",
   "language": "python",
   "name": "python3"
  },
  "language_info": {
   "codemirror_mode": {
    "name": "ipython",
    "version": 3
   },
   "file_extension": ".py",
   "mimetype": "text/x-python",
   "name": "python",
   "nbconvert_exporter": "python",
   "pygments_lexer": "ipython3",
   "version": "3.7.3"
  }
 },
 "nbformat": 4,
 "nbformat_minor": 2
}
