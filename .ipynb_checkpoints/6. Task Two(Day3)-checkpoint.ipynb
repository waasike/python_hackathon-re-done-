{
 "cells": [
  {
   "cell_type": "markdown",
   "metadata": {},
   "source": [
    "# CHALLENGE TASK TWO (Day 3)"
   ]
  },
  {
   "cell_type": "raw",
   "metadata": {},
   "source": [
    "Calories from Fat and Carbohydrates A nutritionist who works for a fitness club helps members by evaluating their diets. As part of her evaluation, she asks members for the number of fat grams and carbohydrate grams that they consumed in a day. Then, she calculates the number of calories that result from the fat, using the following formula:\n",
    "Calories from fats fat grams * 9 \n",
    "Next, she calculates the number of calories that result from the carbohydrates, using the following formula: \n",
    "Calories from carbs carb grams * 4 \n",
    "The nutritionist asks you to write a program that will make these calculations."
   ]
  },
  {
   "cell_type": "code",
   "execution_count": 1,
   "metadata": {},
   "outputs": [
    {
     "name": "stdout",
     "output_type": "stream",
     "text": [
      "Enter the number of fat grams consumed5\n",
      "Enter the number of carbohydrate grams consumed3\n",
      "The calories from fat are 45\n",
      "The calories from carbohydrates are 12\n",
      "You consumed 540 calories\n"
     ]
    }
   ],
   "source": [
    "number_of_fat_grams = int(input(\"Enter the number of fat grams consumed\"))\n",
    "number_of_carb_grams = int(input(\"Enter the number of carbohydrate grams consumed\"))\n",
    "\n",
    "calories_from_fat = number_of_fat_grams * 9\n",
    "print(\"The calories from fat are\", calories_from_fat)\n",
    "calories_from_carbs = number_of_carb_grams * 4\n",
    "print(\"The calories from carbohydrates are\", calories_from_carbs)\n",
    "total_calories = calories_from_fat * calories_from_carbs\n",
    "print(\"You consumed\", total_calories, \"calories\")"
   ]
  }
 ],
 "metadata": {
  "kernelspec": {
   "display_name": "Python 3",
   "language": "python",
   "name": "python3"
  },
  "language_info": {
   "codemirror_mode": {
    "name": "ipython",
    "version": 3
   },
   "file_extension": ".py",
   "mimetype": "text/x-python",
   "name": "python",
   "nbconvert_exporter": "python",
   "pygments_lexer": "ipython3",
   "version": "3.7.3"
  }
 },
 "nbformat": 4,
 "nbformat_minor": 2
}
