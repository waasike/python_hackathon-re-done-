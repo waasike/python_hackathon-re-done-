{
 "cells": [
  {
   "cell_type": "markdown",
   "metadata": {},
   "source": [
    "# CHALLENGE - Task Two (Day 2) "
   ]
  },
  {
   "cell_type": "raw",
   "metadata": {},
   "source": [
    "Write a python program that takes user inputs and determines what career the user should learn. Requirements:\n",
    "\n",
    "\n",
    "• Store career options in a list or in variables.\n",
    "\n",
    "• Store career advices in a list.\n",
    "\n",
    "• Store career questions in a list.\n",
    "\n",
    "• Use conditional statements that determines the user selected choice.\n",
    "\n",
    "• When a wrong input is entered the program should print out an error message.\n",
    "\n",
    "• When all the questions are done the program should determine which career the user should venture in and program should terminate.\n"
   ]
  },
  {
   "cell_type": "code",
   "execution_count": 3,
   "metadata": {},
   "outputs": [
    {
     "name": "stdout",
     "output_type": "stream",
     "text": [
      "THE CAREER QUESTIONS:\n",
      "Q1.Which career deals with study of computers and computing as well as their theoretical and practical applications? \n",
      "\n",
      "Q2.Which career deals with developing strategies for analyzing data, preparing data for analysis \n",
      "\n",
      "Q3.Which career deals with application of principles used in the field of engineering and management of software systems \n",
      "\n",
      "Q4.Which career deals with developing a website for the Internet \n",
      "\n",
      "Q5.Which career deals with set of technologies that protects the usability and integrity of a company's infrastructure \n",
      "CAREER ADVICES\n",
      "Pick a career based on your interests\n",
      "Pick a career based on your ability\n",
      "Pick a career based on set financial goals (salary)\n",
      "Enter your career question number based on the questions above? Q4\n",
      "Your career is:  Web Development\n"
     ]
    }
   ],
   "source": [
    "# printing out the career questions for the user to choose\n",
    "print(\"THE CAREER QUESTIONS:\")\n",
    "print(\"Q1.Which career deals with study of computers and computing as well as their theoretical and practical applications? \\n\")\n",
    "print(\"Q2.Which career deals with developing strategies for analyzing data, preparing data for analysis \\n\")\n",
    "print(\"Q3.Which career deals with application of principles used in the field of engineering and management of software systems \\n\")\n",
    "print(\"Q4.Which career deals with developing a website for the Internet \\n\")\n",
    "print(\"Q5.Which career deals with set of technologies that protects the usability and integrity of a company's infrastructure \")\n",
    "\n",
    "# printing out career advices for the user\n",
    "print(\"CAREER ADVICES\")\n",
    "print(\"Pick a career based on your interests\")\n",
    "print(\"Pick a career based on your ability\")\n",
    "print(\"Pick a career based on set financial goals (salary)\")\n",
    "\n",
    "# getting user input for the question number of the user\n",
    "user_input = input(\"Enter your career question number based on the questions above? \")\n",
    "\n",
    "option1 = \"Computer Science\"\n",
    "option2 = \"Data Science\"\n",
    "option3 = \"Software Engineering\"\n",
    "option4 = \"Web Development\"\n",
    "option5 = \"Network Security\"\n",
    "\n",
    "# creating a list of career advices \n",
    "carrier_advices = [\n",
    "    \"Pick a career based on your interests\"\n",
    "    \"Pick a career based on your ability\"\n",
    "    \"Pick a career based on set financial goals (salary)\"\n",
    "]\n",
    "# creating a list of career questions\n",
    "carrier_questions = [\n",
    "    \"Which career deals with study of computers and computing as well as their theoretical and practical applications? \\n\"\n",
    "    \"Which career deals with developing strategies for analyzing data, preparing data for analysis \\n\"\n",
    "    \"Which career deals with application of principles used in the field of engineering and management of software systems \\n\"\n",
    "    \"Which career deals with developing a website for the Internet \\n\"\n",
    "    \"Which career deals with set of technologies that protects the usability and integrity of a company's infrastructure \" \n",
    "]\n",
    "\n",
    "#creating if- elif statments\n",
    "if user_input == \"Q1\":\n",
    "    print(\"Your career is: \", option1)\n",
    "elif user_input == \"Q2\":\n",
    "    print(\"Your career is: \", option2)\n",
    "elif user_input == \"Q3\":\n",
    "    print(\"Your career is: \", option3)\n",
    "elif user_input == \"Q4\":\n",
    "    print(\"Your career is: \", option4)\n",
    "elif user_input == \"Q5\":\n",
    "    print(\"Your career is: \", option5)\n"
   ]
  }
 ],
 "metadata": {
  "kernelspec": {
   "display_name": "Python 3",
   "language": "python",
   "name": "python3"
  },
  "language_info": {
   "codemirror_mode": {
    "name": "ipython",
    "version": 3
   },
   "file_extension": ".py",
   "mimetype": "text/x-python",
   "name": "python",
   "nbconvert_exporter": "python",
   "pygments_lexer": "ipython3",
   "version": "3.7.3"
  }
 },
 "nbformat": 4,
 "nbformat_minor": 2
}
