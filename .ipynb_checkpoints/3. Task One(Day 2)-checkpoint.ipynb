{
 "cells": [
  {
   "cell_type": "markdown",
   "metadata": {},
   "source": [
    "# PERSONALITY TEST PROGRAM - Task One (Day 2)"
   ]
  },
  {
   "cell_type": "raw",
   "metadata": {},
   "source": [
    "Book Club Points Serendipity Booksellers has a book club that awards points to its customers based on the number of books purchased each month. The points are awarded as follows:\n",
    "\n",
    "• If a customer purchases 0 books, he or she earns 0 points.\n",
    "• If a customer purchases 1 book, he or she earns 6 points.\n",
    "• If a customer purchases 2 books, he or she earns 16 points.\n",
    "• If a customer purchases 3 books, he or she earns 32 points.\n",
    "• If a customer purchases 4 or more books, he or she earns 60 points.\n",
    "Write a program that asks the user to enter the number of books that he or she has purchased this month and displays the number of points awarded"
   ]
  },
  {
   "cell_type": "code",
   "execution_count": 3,
   "metadata": {},
   "outputs": [
    {
     "name": "stdout",
     "output_type": "stream",
     "text": [
      "Enter the number of books purchased this month: 4\n",
      "60 points\n"
     ]
    }
   ],
   "source": [
    "# getting user input\n",
    "number_of_books_purchased = int(input(\"Enter the number of books purchased this month: \"))\n",
    "\n",
    "# creating if statments\n",
    "if number_of_books_purchased == 0:\n",
    "    print(0, \"points \")\n",
    "elif number_of_books_purchased == 1:\n",
    "    print(6, \"points \")\n",
    "elif number_of_books_purchased == 2:\n",
    "    print(16, \"points\")\n",
    "elif number_of_books_purchased == 3:\n",
    "    print(32, \"points\")\n",
    "elif number_of_books_purchased == 4:\n",
    "    print(60, \"points\")"
   ]
  }
 ],
 "metadata": {
  "kernelspec": {
   "display_name": "Python 3",
   "language": "python",
   "name": "python3"
  },
  "language_info": {
   "codemirror_mode": {
    "name": "ipython",
    "version": 3
   },
   "file_extension": ".py",
   "mimetype": "text/x-python",
   "name": "python",
   "nbconvert_exporter": "python",
   "pygments_lexer": "ipython3",
   "version": "3.7.3"
  }
 },
 "nbformat": 4,
 "nbformat_minor": 2
}
